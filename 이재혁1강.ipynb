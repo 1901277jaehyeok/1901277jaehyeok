{
  "nbformat": 4,
  "nbformat_minor": 0,
  "metadata": {
    "colab": {
      "provenance": [],
      "collapsed_sections": [],
      "authorship_tag": "ABX9TyN2+l/yz+eQT8TCd2HSwWYt",
      "include_colab_link": true
    },
    "kernelspec": {
      "name": "python3",
      "display_name": "Python 3"
    },
    "language_info": {
      "name": "python"
    }
  },
  "cells": [
    {
      "cell_type": "markdown",
      "metadata": {
        "id": "view-in-github",
        "colab_type": "text"
      },
      "source": [
        "<a href=\"https://colab.research.google.com/github/1901277jaehyeok/1901277jaehyeok/blob/main/%EC%9D%B4%EC%9E%AC%ED%98%811%EA%B0%95.ipynb\" target=\"_parent\"><img src=\"https://colab.research.google.com/assets/colab-badge.svg\" alt=\"Open In Colab\"/></a>"
      ]
    },
    {
      "cell_type": "code",
      "execution_count": null,
      "metadata": {
        "id": "RFumlFB4DYhm"
      },
      "outputs": [],
      "source": [
        "def greet():\n",
        "  print( \"hello world\")"
      ]
    },
    {
      "cell_type": "code",
      "source": [
        "greet()"
      ],
      "metadata": {
        "colab": {
          "base_uri": "https://localhost:8080/"
        },
        "id": "3ZcT5xq2JlR_",
        "outputId": "05c6a084-96dd-4a36-bc63-26afffc29a78"
      },
      "execution_count": null,
      "outputs": [
        {
          "output_type": "stream",
          "name": "stdout",
          "text": [
            "hello world\n"
          ]
        }
      ]
    },
    {
      "cell_type": "code",
      "source": [
        "def add(a, b):\n",
        "  c=a+b\n",
        "  return c\n",
        "add (10,13)"
      ],
      "metadata": {
        "colab": {
          "base_uri": "https://localhost:8080/"
        },
        "id": "lC_lba7pJ52y",
        "outputId": "357a8a88-2431-4328-e991-ebd5cb46a76e"
      },
      "execution_count": null,
      "outputs": [
        {
          "output_type": "execute_result",
          "data": {
            "text/plain": [
              "23"
            ]
          },
          "metadata": {},
          "execution_count": 8
        }
      ]
    },
    {
      "cell_type": "code",
      "source": [
        "def multiply(a, b):\n",
        " c=a*b\n",
        "return c"
      ],
      "metadata": {
        "colab": {
          "base_uri": "https://localhost:8080/",
          "height": 137
        },
        "id": "mbTJCH2NLRWN",
        "outputId": "d130c658-17fa-47a2-8b48-8a6350e5a8c1"
      },
      "execution_count": null,
      "outputs": [
        {
          "output_type": "error",
          "ename": "SyntaxError",
          "evalue": "ignored",
          "traceback": [
            "\u001b[0;36m  File \u001b[0;32m\"<ipython-input-21-bb44cee5f035>\"\u001b[0;36m, line \u001b[0;32m3\u001b[0m\n\u001b[0;31m    return c\u001b[0m\n\u001b[0m            ^\u001b[0m\n\u001b[0;31mSyntaxError\u001b[0m\u001b[0;31m:\u001b[0m 'return' outside function\n"
          ]
        }
      ]
    },
    {
      "cell_type": "code",
      "source": [
        "def greet2(name):\n",
        "  print( '반갑습니다' , name)\n",
        "  print(name, '님은 파이썬의 세계로 오셨습니다')"
      ],
      "metadata": {
        "id": "zW0FZiPOMc3_"
      },
      "execution_count": null,
      "outputs": []
    },
    {
      "cell_type": "code",
      "source": [
        "greet2( '이재혁')"
      ],
      "metadata": {
        "colab": {
          "base_uri": "https://localhost:8080/"
        },
        "id": "uSLvKIF2PLIc",
        "outputId": "6c4e8f88-8e74-4972-d0b8-bcd55ba6dd3b"
      },
      "execution_count": null,
      "outputs": [
        {
          "output_type": "stream",
          "name": "stdout",
          "text": [
            "반갑습니다 이재혁\n",
            "이재혁 님은 파이썬의 세계로 오셨습니다\n"
          ]
        }
      ]
    },
    {
      "cell_type": "code",
      "source": [
        "def adder(num1, num2):\n",
        "  sum=num1+num2\n",
        "  print( '덧셈결과: ', num1 + num2)"
      ],
      "metadata": {
        "id": "8u-eq7laPaJJ"
      },
      "execution_count": null,
      "outputs": []
    },
    {
      "cell_type": "code",
      "source": [
        "adder(10,15)"
      ],
      "metadata": {
        "colab": {
          "base_uri": "https://localhost:8080/"
        },
        "id": "I0zwm5_CRFPj",
        "outputId": "26ecaef2-1b29-4925-b72f-064dc3ac8d33"
      },
      "execution_count": null,
      "outputs": [
        {
          "output_type": "stream",
          "name": "stdout",
          "text": [
            "덧셈결과:  25\n"
          ]
        }
      ]
    },
    {
      "cell_type": "code",
      "source": [
        "def adder(num1, num2):\n",
        "  sum=num1+num2\n",
        "  return sum"
      ],
      "metadata": {
        "id": "wkf3wHsQRJ2X"
      },
      "execution_count": null,
      "outputs": []
    },
    {
      "cell_type": "code",
      "source": [],
      "metadata": {
        "id": "x27Ys4hqSgKs"
      },
      "execution_count": null,
      "outputs": []
    },
    {
      "cell_type": "code",
      "source": [
        "max(2, 3, 4)"
      ],
      "metadata": {
        "colab": {
          "base_uri": "https://localhost:8080/"
        },
        "id": "q-qew_TAShCO",
        "outputId": "399ec823-6f36-4887-8e4e-72b453da5817"
      },
      "execution_count": null,
      "outputs": [
        {
          "output_type": "execute_result",
          "data": {
            "text/plain": [
              "4"
            ]
          },
          "metadata": {},
          "execution_count": 27
        }
      ]
    },
    {
      "cell_type": "code",
      "source": [
        "min(2, 3, 4)"
      ],
      "metadata": {
        "colab": {
          "base_uri": "https://localhost:8080/"
        },
        "id": "euu1Gup8SyC6",
        "outputId": "6de6ccd1-c995-41d4-a996-82ee98689e81"
      },
      "execution_count": null,
      "outputs": [
        {
          "output_type": "execute_result",
          "data": {
            "text/plain": [
              "2"
            ]
          },
          "metadata": {},
          "execution_count": 28
        }
      ]
    },
    {
      "cell_type": "code",
      "source": [
        "round(3,51)"
      ],
      "metadata": {
        "colab": {
          "base_uri": "https://localhost:8080/"
        },
        "id": "D8Nh1yvsS3sm",
        "outputId": "31192c75-fe78-4a95-b0ee-a710721fdbca"
      },
      "execution_count": null,
      "outputs": [
        {
          "output_type": "execute_result",
          "data": {
            "text/plain": [
              "3"
            ]
          },
          "metadata": {},
          "execution_count": 29
        }
      ]
    },
    {
      "cell_type": "code",
      "source": [
        "round(3,4)"
      ],
      "metadata": {
        "colab": {
          "base_uri": "https://localhost:8080/"
        },
        "id": "mgCQq3vxS7fN",
        "outputId": "b8a22c44-f4b1-4561-b735-007a82745011"
      },
      "execution_count": null,
      "outputs": [
        {
          "output_type": "execute_result",
          "data": {
            "text/plain": [
              "3"
            ]
          },
          "metadata": {},
          "execution_count": 30
        }
      ]
    },
    {
      "cell_type": "code",
      "source": [
        "abs(-3)"
      ],
      "metadata": {
        "colab": {
          "base_uri": "https://localhost:8080/"
        },
        "id": "T7jy1uAITBJ-",
        "outputId": "e7a3f4ce-eda9-4113-e129-c45aebcddb3d"
      },
      "execution_count": null,
      "outputs": [
        {
          "output_type": "execute_result",
          "data": {
            "text/plain": [
              "3"
            ]
          },
          "metadata": {},
          "execution_count": 31
        }
      ]
    },
    {
      "cell_type": "code",
      "source": [
        "pow(2,3)"
      ],
      "metadata": {
        "colab": {
          "base_uri": "https://localhost:8080/"
        },
        "id": "Yi1N957KTE7_",
        "outputId": "124d85c4-e4ae-4fc0-ae0e-168a109a7162"
      },
      "execution_count": null,
      "outputs": [
        {
          "output_type": "execute_result",
          "data": {
            "text/plain": [
              "8"
            ]
          },
          "metadata": {},
          "execution_count": 32
        }
      ]
    },
    {
      "cell_type": "code",
      "source": [
        "result = eval(input(\"신나는 놀이:\"))"
      ],
      "metadata": {
        "colab": {
          "base_uri": "https://localhost:8080/"
        },
        "id": "2YlgoW_STHhG",
        "outputId": "4ffbc066-0731-4986-b30e-297922ccdb88"
      },
      "execution_count": null,
      "outputs": [
        {
          "name": "stdout",
          "output_type": "stream",
          "text": [
            "신나는 놀이:2-4*5+3\n"
          ]
        }
      ]
    },
    {
      "cell_type": "code",
      "source": [
        "result"
      ],
      "metadata": {
        "colab": {
          "base_uri": "https://localhost:8080/"
        },
        "id": "kWjor15PT02u",
        "outputId": "893a5ea5-2d4c-434c-d4e6-7986461542b1"
      },
      "execution_count": null,
      "outputs": [
        {
          "output_type": "execute_result",
          "data": {
            "text/plain": [
              "-15"
            ]
          },
          "metadata": {},
          "execution_count": 36
        }
      ]
    },
    {
      "cell_type": "code",
      "source": [
        "def ret():\n",
        "  return 99"
      ],
      "metadata": {
        "id": "Ftzx-f-1UNjf"
      },
      "execution_count": null,
      "outputs": []
    },
    {
      "cell_type": "code",
      "source": [
        "result = eval(input(\"무엇이든 넣어요: \"))"
      ],
      "metadata": {
        "colab": {
          "base_uri": "https://localhost:8080/"
        },
        "id": "pS8cqDT6UjDq",
        "outputId": "dcc3a081-6127-4d73-db12-39b897d75122"
      },
      "execution_count": null,
      "outputs": [
        {
          "name": "stdout",
          "output_type": "stream",
          "text": [
            "무엇이든 넣어요: ret()\n"
          ]
        }
      ]
    },
    {
      "cell_type": "code",
      "source": [
        "print(result)"
      ],
      "metadata": {
        "colab": {
          "base_uri": "https://localhost:8080/"
        },
        "id": "KSEJnwkcU7HN",
        "outputId": "ae26ee32-ad08-4b70-b21b-55204bcef987"
      },
      "execution_count": null,
      "outputs": [
        {
          "output_type": "stream",
          "name": "stdout",
          "text": [
            "99\n"
          ]
        }
      ]
    },
    {
      "cell_type": "code",
      "source": [
        "def greet_three_times():\n",
        "  print('hi ')\n",
        "  print('hi ')\n",
        "  print('hi ')"
      ],
      "metadata": {
        "id": "mdXkTZ5jVDyL"
      },
      "execution_count": null,
      "outputs": []
    },
    {
      "cell_type": "code",
      "source": [
        "greet_three_times()"
      ],
      "metadata": {
        "colab": {
          "base_uri": "https://localhost:8080/"
        },
        "id": "pUQtejRCVsnR",
        "outputId": "8db2edf0-cc99-4547-d78b-1ab1b75b2fed"
      },
      "execution_count": null,
      "outputs": [
        {
          "output_type": "stream",
          "name": "stdout",
          "text": [
            "hi \n",
            "hi \n",
            "hi \n"
          ]
        }
      ]
    },
    {
      "cell_type": "code",
      "source": [
        "def greet_five_times():\n",
        "  print('hello ')\n",
        "  print('hello ')\n",
        "  print('hello ')"
      ],
      "metadata": {
        "id": "Z5SjOxC0VxEG"
      },
      "execution_count": null,
      "outputs": []
    },
    {
      "cell_type": "code",
      "source": [
        "greet_three_times()"
      ],
      "metadata": {
        "colab": {
          "base_uri": "https://localhost:8080/"
        },
        "id": "5mpFuW1ZWIIz",
        "outputId": "7b9259cc-c969-41c4-e731-7d908d5cd457"
      },
      "execution_count": null,
      "outputs": [
        {
          "output_type": "stream",
          "name": "stdout",
          "text": [
            "hi \n",
            "hi \n",
            "hi \n"
          ]
        }
      ]
    },
    {
      "cell_type": "code",
      "source": [
        "def greet_10(num):\n",
        "  if (num>0):\n",
        "    print('hi ')\n",
        "    num=num-1\n",
        "    greet_10(num)"
      ],
      "metadata": {
        "id": "Yl0Iz3EWWNgT"
      },
      "execution_count": null,
      "outputs": []
    },
    {
      "cell_type": "code",
      "source": [
        "greet_10(3)"
      ],
      "metadata": {
        "colab": {
          "base_uri": "https://localhost:8080/"
        },
        "id": "xvvdWlKHWux7",
        "outputId": "0943ade0-71aa-48ce-80b1-4dc58243779a"
      },
      "execution_count": null,
      "outputs": [
        {
          "output_type": "stream",
          "name": "stdout",
          "text": [
            "hi \n",
            "hi \n",
            "hi \n"
          ]
        }
      ]
    },
    {
      "cell_type": "code",
      "source": [
        "greet_10(2)"
      ],
      "metadata": {
        "colab": {
          "base_uri": "https://localhost:8080/"
        },
        "id": "gQyUTNZmWyzY",
        "outputId": "b4b14ce7-4d07-4225-a85c-91d526d3d209"
      },
      "execution_count": null,
      "outputs": [
        {
          "output_type": "stream",
          "name": "stdout",
          "text": [
            "hi \n",
            "hi \n"
          ]
        }
      ]
    },
    {
      "cell_type": "code",
      "source": [
        "sum=0\n",
        "for i in range(1,11):\n",
        "  sum=sum+i"
      ],
      "metadata": {
        "id": "RrPd_wozX52u"
      },
      "execution_count": null,
      "outputs": []
    },
    {
      "cell_type": "code",
      "source": [
        "sum=sum+1"
      ],
      "metadata": {
        "id": "JIrZQ9tyYMuJ"
      },
      "execution_count": null,
      "outputs": []
    },
    {
      "cell_type": "code",
      "source": [
        "import random\n",
        "\n",
        "NUMBER_OF_TRIALS = 5000000\n",
        "numberOfHits=0\n",
        "for i in range(NUMBER_OF_TRIALS):\n",
        "  x = random.random() * 2 - 1\n",
        "  y = random.random() * 2 - 1\n",
        "  \n",
        "  if x * x + y * y <= 1:\n",
        "    numberOfHits += 1\n",
        "    pi = 4 * numberOfHits / NUMBER_OF_TRIALS\n",
        "print(\"PI는\", pi, \"입니다\")"
      ],
      "metadata": {
        "colab": {
          "base_uri": "https://localhost:8080/"
        },
        "id": "qH3_YxAXYYKD",
        "outputId": "300c3b1a-ef72-484c-ca81-60cc210b3e62"
      },
      "execution_count": null,
      "outputs": [
        {
          "output_type": "stream",
          "name": "stdout",
          "text": [
            "PI는 3.1427528 입니다\n"
          ]
        }
      ]
    },
    {
      "cell_type": "code",
      "source": [
        "count=0\n",
        "while count < 100:\n",
        "  print(\"프로그래밍은 재미있습니다!!!\")\n",
        "  count = count + 1"
      ],
      "metadata": {
        "colab": {
          "base_uri": "https://localhost:8080/"
        },
        "id": "Tpt5GCRNaXlY",
        "outputId": "3e3da40e-47c5-46f1-ec18-14692486eb4d"
      },
      "execution_count": null,
      "outputs": [
        {
          "output_type": "stream",
          "name": "stdout",
          "text": [
            "프로그래밍은 재미있습니다!!!\n",
            "프로그래밍은 재미있습니다!!!\n",
            "프로그래밍은 재미있습니다!!!\n",
            "프로그래밍은 재미있습니다!!!\n",
            "프로그래밍은 재미있습니다!!!\n",
            "프로그래밍은 재미있습니다!!!\n",
            "프로그래밍은 재미있습니다!!!\n",
            "프로그래밍은 재미있습니다!!!\n",
            "프로그래밍은 재미있습니다!!!\n",
            "프로그래밍은 재미있습니다!!!\n",
            "프로그래밍은 재미있습니다!!!\n",
            "프로그래밍은 재미있습니다!!!\n",
            "프로그래밍은 재미있습니다!!!\n",
            "프로그래밍은 재미있습니다!!!\n",
            "프로그래밍은 재미있습니다!!!\n",
            "프로그래밍은 재미있습니다!!!\n",
            "프로그래밍은 재미있습니다!!!\n",
            "프로그래밍은 재미있습니다!!!\n",
            "프로그래밍은 재미있습니다!!!\n",
            "프로그래밍은 재미있습니다!!!\n",
            "프로그래밍은 재미있습니다!!!\n",
            "프로그래밍은 재미있습니다!!!\n",
            "프로그래밍은 재미있습니다!!!\n",
            "프로그래밍은 재미있습니다!!!\n",
            "프로그래밍은 재미있습니다!!!\n",
            "프로그래밍은 재미있습니다!!!\n",
            "프로그래밍은 재미있습니다!!!\n",
            "프로그래밍은 재미있습니다!!!\n",
            "프로그래밍은 재미있습니다!!!\n",
            "프로그래밍은 재미있습니다!!!\n",
            "프로그래밍은 재미있습니다!!!\n",
            "프로그래밍은 재미있습니다!!!\n",
            "프로그래밍은 재미있습니다!!!\n",
            "프로그래밍은 재미있습니다!!!\n",
            "프로그래밍은 재미있습니다!!!\n",
            "프로그래밍은 재미있습니다!!!\n",
            "프로그래밍은 재미있습니다!!!\n",
            "프로그래밍은 재미있습니다!!!\n",
            "프로그래밍은 재미있습니다!!!\n",
            "프로그래밍은 재미있습니다!!!\n",
            "프로그래밍은 재미있습니다!!!\n",
            "프로그래밍은 재미있습니다!!!\n",
            "프로그래밍은 재미있습니다!!!\n",
            "프로그래밍은 재미있습니다!!!\n",
            "프로그래밍은 재미있습니다!!!\n",
            "프로그래밍은 재미있습니다!!!\n",
            "프로그래밍은 재미있습니다!!!\n",
            "프로그래밍은 재미있습니다!!!\n",
            "프로그래밍은 재미있습니다!!!\n",
            "프로그래밍은 재미있습니다!!!\n",
            "프로그래밍은 재미있습니다!!!\n",
            "프로그래밍은 재미있습니다!!!\n",
            "프로그래밍은 재미있습니다!!!\n",
            "프로그래밍은 재미있습니다!!!\n",
            "프로그래밍은 재미있습니다!!!\n",
            "프로그래밍은 재미있습니다!!!\n",
            "프로그래밍은 재미있습니다!!!\n",
            "프로그래밍은 재미있습니다!!!\n",
            "프로그래밍은 재미있습니다!!!\n",
            "프로그래밍은 재미있습니다!!!\n",
            "프로그래밍은 재미있습니다!!!\n",
            "프로그래밍은 재미있습니다!!!\n",
            "프로그래밍은 재미있습니다!!!\n",
            "프로그래밍은 재미있습니다!!!\n",
            "프로그래밍은 재미있습니다!!!\n",
            "프로그래밍은 재미있습니다!!!\n",
            "프로그래밍은 재미있습니다!!!\n",
            "프로그래밍은 재미있습니다!!!\n",
            "프로그래밍은 재미있습니다!!!\n",
            "프로그래밍은 재미있습니다!!!\n",
            "프로그래밍은 재미있습니다!!!\n",
            "프로그래밍은 재미있습니다!!!\n",
            "프로그래밍은 재미있습니다!!!\n",
            "프로그래밍은 재미있습니다!!!\n",
            "프로그래밍은 재미있습니다!!!\n",
            "프로그래밍은 재미있습니다!!!\n",
            "프로그래밍은 재미있습니다!!!\n",
            "프로그래밍은 재미있습니다!!!\n",
            "프로그래밍은 재미있습니다!!!\n",
            "프로그래밍은 재미있습니다!!!\n",
            "프로그래밍은 재미있습니다!!!\n",
            "프로그래밍은 재미있습니다!!!\n",
            "프로그래밍은 재미있습니다!!!\n",
            "프로그래밍은 재미있습니다!!!\n",
            "프로그래밍은 재미있습니다!!!\n",
            "프로그래밍은 재미있습니다!!!\n",
            "프로그래밍은 재미있습니다!!!\n",
            "프로그래밍은 재미있습니다!!!\n",
            "프로그래밍은 재미있습니다!!!\n",
            "프로그래밍은 재미있습니다!!!\n",
            "프로그래밍은 재미있습니다!!!\n",
            "프로그래밍은 재미있습니다!!!\n",
            "프로그래밍은 재미있습니다!!!\n",
            "프로그래밍은 재미있습니다!!!\n",
            "프로그래밍은 재미있습니다!!!\n",
            "프로그래밍은 재미있습니다!!!\n",
            "프로그래밍은 재미있습니다!!!\n",
            "프로그래밍은 재미있습니다!!!\n",
            "프로그래밍은 재미있습니다!!!\n",
            "프로그래밍은 재미있습니다!!!\n"
          ]
        }
      ]
    },
    {
      "cell_type": "code",
      "source": [
        "import random\n",
        "\n",
        "NUMBER_OF_TRIALS = 5000000\n",
        "numberOfHits=0\n",
        "i=0\n",
        "while (i<NUMBER_OF_TRIALS):\n",
        "  x = random.random() * 2 - 1\n",
        "  y = random.random() * 2 - 1\n",
        "  \n",
        "  if x * x + y * y <= 1:\n",
        "    numberOfHits += 1\n",
        "    i=i+1\n",
        "    pi = 4 * numberOfHits / NUMBER_OF_TRIALS\n",
        "print(\"PI는\", pi, \"입니다\")"
      ],
      "metadata": {
        "colab": {
          "base_uri": "https://localhost:8080/"
        },
        "id": "qjEybWGBcTWy",
        "outputId": "ac0c96b5-2e4a-413d-aa5d-8b4997fc7679"
      },
      "execution_count": null,
      "outputs": [
        {
          "output_type": "stream",
          "name": "stdout",
          "text": [
            "PI는 4.0 입니다\n"
          ]
        }
      ]
    },
    {
      "cell_type": "code",
      "source": [
        "x<y"
      ],
      "metadata": {
        "colab": {
          "base_uri": "https://localhost:8080/"
        },
        "id": "EYffS_ycdP0b",
        "outputId": "7eb44ff9-08fc-4533-f742-de2aa50431e2"
      },
      "execution_count": null,
      "outputs": [
        {
          "output_type": "execute_result",
          "data": {
            "text/plain": [
              "True"
            ]
          },
          "metadata": {},
          "execution_count": 57
        }
      ]
    },
    {
      "cell_type": "code",
      "source": [
        "x>y"
      ],
      "metadata": {
        "colab": {
          "base_uri": "https://localhost:8080/"
        },
        "id": "1BndiBMedXUY",
        "outputId": "8287805f-9fed-41fe-f192-ce47afeecc52"
      },
      "execution_count": null,
      "outputs": [
        {
          "output_type": "execute_result",
          "data": {
            "text/plain": [
              "False"
            ]
          },
          "metadata": {},
          "execution_count": 58
        }
      ]
    },
    {
      "cell_type": "code",
      "source": [
        "x==y"
      ],
      "metadata": {
        "colab": {
          "base_uri": "https://localhost:8080/"
        },
        "id": "A-Jv2g63dZpa",
        "outputId": "9d2fdf20-cbc8-4014-83d5-ebe9031d42da"
      },
      "execution_count": null,
      "outputs": [
        {
          "output_type": "execute_result",
          "data": {
            "text/plain": [
              "False"
            ]
          },
          "metadata": {},
          "execution_count": 59
        }
      ]
    },
    {
      "cell_type": "code",
      "source": [
        "x=3\n",
        "y=2\n",
        "bool(x>y)"
      ],
      "metadata": {
        "colab": {
          "base_uri": "https://localhost:8080/"
        },
        "id": "9ZhYOhwydcM_",
        "outputId": "ec4c4c05-bc4c-49b2-cc86-4eee3e6ded56"
      },
      "execution_count": null,
      "outputs": [
        {
          "output_type": "execute_result",
          "data": {
            "text/plain": [
              "True"
            ]
          },
          "metadata": {},
          "execution_count": 60
        }
      ]
    },
    {
      "cell_type": "code",
      "source": [
        "x=3\n",
        "y=2\n",
        "bool(x !=y)"
      ],
      "metadata": {
        "colab": {
          "base_uri": "https://localhost:8080/"
        },
        "id": "Ia8Dnfi5dk9c",
        "outputId": "bb699da5-da02-4be8-f955-6ad05ccf7419"
      },
      "execution_count": null,
      "outputs": [
        {
          "output_type": "execute_result",
          "data": {
            "text/plain": [
              "True"
            ]
          },
          "metadata": {},
          "execution_count": 61
        }
      ]
    },
    {
      "cell_type": "code",
      "source": [
        "x=3\n",
        "y=2\n",
        "bool(x==y)"
      ],
      "metadata": {
        "colab": {
          "base_uri": "https://localhost:8080/"
        },
        "id": "hkOjnMYid6XO",
        "outputId": "32e281b3-714b-4de8-8e84-637c97126a2c"
      },
      "execution_count": null,
      "outputs": [
        {
          "output_type": "execute_result",
          "data": {
            "text/plain": [
              "False"
            ]
          },
          "metadata": {},
          "execution_count": 62
        }
      ]
    },
    {
      "cell_type": "code",
      "source": [
        "x=3\n",
        "y=2\n",
        "bool(x <= y)"
      ],
      "metadata": {
        "colab": {
          "base_uri": "https://localhost:8080/"
        },
        "id": "K3rAbLs0eAqi",
        "outputId": "0485ef83-05f6-4b00-e66d-ad490e711cf3"
      },
      "execution_count": null,
      "outputs": [
        {
          "output_type": "execute_result",
          "data": {
            "text/plain": [
              "False"
            ]
          },
          "metadata": {},
          "execution_count": 63
        }
      ]
    },
    {
      "cell_type": "code",
      "source": [
        "money = 2000"
      ],
      "metadata": {
        "id": "PP-STNPLeG3a"
      },
      "execution_count": null,
      "outputs": []
    },
    {
      "cell_type": "code",
      "source": [
        "card = True"
      ],
      "metadata": {
        "id": "P6paKsvJezvi"
      },
      "execution_count": null,
      "outputs": []
    },
    {
      "cell_type": "code",
      "source": [
        " if money >= 2000 or card:\n",
        "    print(\"버스를 타고가라\")\n",
        "  \n",
        "else:\n",
        "    print(\"걸어가라\")"
      ],
      "metadata": {
        "colab": {
          "base_uri": "https://localhost:8080/"
        },
        "id": "cS6dMOzfft4d",
        "outputId": "70078b6b-c3a0-499f-e471-96893a024579"
      },
      "execution_count": null,
      "outputs": [
        {
          "output_type": "stream",
          "name": "stdout",
          "text": [
            "버스를 타고가라\n"
          ]
        }
      ]
    },
    {
      "cell_type": "code",
      "source": [
        "bool(True or True)"
      ],
      "metadata": {
        "colab": {
          "base_uri": "https://localhost:8080/"
        },
        "id": "eaBHTDSdf30U",
        "outputId": "cd40586a-3777-499d-ed08-04d44a0e7923"
      },
      "execution_count": null,
      "outputs": [
        {
          "output_type": "execute_result",
          "data": {
            "text/plain": [
              "True"
            ]
          },
          "metadata": {},
          "execution_count": 74
        }
      ]
    },
    {
      "cell_type": "code",
      "source": [
        "bool(True or False)"
      ],
      "metadata": {
        "colab": {
          "base_uri": "https://localhost:8080/"
        },
        "id": "WyI9xD6ogMzg",
        "outputId": "6488f26b-5bf7-43a5-e89e-217366fdbab6"
      },
      "execution_count": null,
      "outputs": [
        {
          "output_type": "execute_result",
          "data": {
            "text/plain": [
              "True"
            ]
          },
          "metadata": {},
          "execution_count": 75
        }
      ]
    },
    {
      "cell_type": "code",
      "source": [
        "bool(False or False)"
      ],
      "metadata": {
        "colab": {
          "base_uri": "https://localhost:8080/"
        },
        "id": "MxNef-OqgR3j",
        "outputId": "dc5d39c2-fe80-4a39-d33a-790deffd7062"
      },
      "execution_count": null,
      "outputs": [
        {
          "output_type": "execute_result",
          "data": {
            "text/plain": [
              "False"
            ]
          },
          "metadata": {},
          "execution_count": 76
        }
      ]
    },
    {
      "cell_type": "code",
      "source": [
        "bool(not True)"
      ],
      "metadata": {
        "colab": {
          "base_uri": "https://localhost:8080/"
        },
        "id": "37_iIMZ1gX9I",
        "outputId": "3e1d71a2-3ee3-47e2-bed3-65614da5e69e"
      },
      "execution_count": null,
      "outputs": [
        {
          "output_type": "execute_result",
          "data": {
            "text/plain": [
              "False"
            ]
          },
          "metadata": {},
          "execution_count": 77
        }
      ]
    },
    {
      "cell_type": "code",
      "source": [
        "bool(not False)"
      ],
      "metadata": {
        "colab": {
          "base_uri": "https://localhost:8080/"
        },
        "id": "vmaz-q5sgfGP",
        "outputId": "eed183ce-3fed-4637-ca2f-81a3b58ac56a"
      },
      "execution_count": null,
      "outputs": [
        {
          "output_type": "execute_result",
          "data": {
            "text/plain": [
              "True"
            ]
          },
          "metadata": {},
          "execution_count": 78
        }
      ]
    },
    {
      "cell_type": "code",
      "source": [
        "bool(not (True or False))"
      ],
      "metadata": {
        "colab": {
          "base_uri": "https://localhost:8080/"
        },
        "id": "KdT_ZkueghjV",
        "outputId": "d8177d1e-4518-4dea-a731-0483229ca210"
      },
      "execution_count": null,
      "outputs": [
        {
          "output_type": "execute_result",
          "data": {
            "text/plain": [
              "False"
            ]
          },
          "metadata": {},
          "execution_count": 80
        }
      ]
    },
    {
      "cell_type": "code",
      "source": [
        "bool((not True) or False)"
      ],
      "metadata": {
        "colab": {
          "base_uri": "https://localhost:8080/"
        },
        "id": "N_0QUcrHgldS",
        "outputId": "097f062f-17b8-4ee0-c4f8-18b8241f048a"
      },
      "execution_count": null,
      "outputs": [
        {
          "output_type": "execute_result",
          "data": {
            "text/plain": [
              "False"
            ]
          },
          "metadata": {},
          "execution_count": 81
        }
      ]
    },
    {
      "cell_type": "code",
      "source": [
        "bool((not False) or False)"
      ],
      "metadata": {
        "colab": {
          "base_uri": "https://localhost:8080/"
        },
        "id": "wjv17H1xgynD",
        "outputId": "ec81cffb-d1c6-483d-d907-1f4e5013d62d"
      },
      "execution_count": null,
      "outputs": [
        {
          "output_type": "execute_result",
          "data": {
            "text/plain": [
              "True"
            ]
          },
          "metadata": {},
          "execution_count": 82
        }
      ]
    },
    {
      "cell_type": "code",
      "source": [
        "bool((not False) or False)"
      ],
      "metadata": {
        "colab": {
          "base_uri": "https://localhost:8080/"
        },
        "id": "Js2S8Tefg3T0",
        "outputId": "c618b96a-f1cd-4b4a-8803-b2f7b9e61308"
      },
      "execution_count": null,
      "outputs": [
        {
          "output_type": "execute_result",
          "data": {
            "text/plain": [
              "True"
            ]
          },
          "metadata": {},
          "execution_count": 83
        }
      ]
    },
    {
      "cell_type": "code",
      "source": [
        "1 in [1,2,3]"
      ],
      "metadata": {
        "colab": {
          "base_uri": "https://localhost:8080/"
        },
        "id": "hjtOvDSpg7eM",
        "outputId": "14b3b09c-9fa7-4394-ea26-15da10daf52d"
      },
      "execution_count": null,
      "outputs": [
        {
          "output_type": "execute_result",
          "data": {
            "text/plain": [
              "True"
            ]
          },
          "metadata": {},
          "execution_count": 84
        }
      ]
    },
    {
      "cell_type": "code",
      "source": [
        "1 not in [1,2,3]"
      ],
      "metadata": {
        "colab": {
          "base_uri": "https://localhost:8080/"
        },
        "id": "kxtrYO4jhKDH",
        "outputId": "3abfc0d9-d891-4cac-ffc8-633aa0945d85"
      },
      "execution_count": null,
      "outputs": [
        {
          "output_type": "execute_result",
          "data": {
            "text/plain": [
              "False"
            ]
          },
          "metadata": {},
          "execution_count": 85
        }
      ]
    },
    {
      "cell_type": "code",
      "source": [
        "pocket=['paper','cellphone','money']"
      ],
      "metadata": {
        "id": "xBubzMuDhMzB"
      },
      "execution_count": null,
      "outputs": []
    },
    {
      "cell_type": "code",
      "source": [
        "if 'money in pocket':\n",
        "  print(\"택시를 타고가라\")\n",
        "else:\n",
        "  print(\"걸어가라\")"
      ],
      "metadata": {
        "colab": {
          "base_uri": "https://localhost:8080/"
        },
        "id": "N5NmJYUkhYJX",
        "outputId": "e977c133-82c2-4fbe-ccc0-e0ceaf5ebc7a"
      },
      "execution_count": null,
      "outputs": [
        {
          "output_type": "stream",
          "name": "stdout",
          "text": [
            "택시를 타고가라\n"
          ]
        }
      ]
    },
    {
      "cell_type": "code",
      "source": [
        "pocket=['paper','cellphone','money']"
      ],
      "metadata": {
        "id": "abyM5KCuhsAJ"
      },
      "execution_count": null,
      "outputs": []
    },
    {
      "cell_type": "code",
      "source": [
        "if 'money in pocket':\n",
        "  pass\n",
        "else:\n",
        "  print(\"카드를 꺼내라\")"
      ],
      "metadata": {
        "id": "f_OpUdFJiLpZ"
      },
      "execution_count": null,
      "outputs": []
    },
    {
      "cell_type": "code",
      "source": [
        "pocket=['paper','cellphone']"
      ],
      "metadata": {
        "id": "Ipb7miMXiUi8"
      },
      "execution_count": null,
      "outputs": []
    },
    {
      "cell_type": "code",
      "source": [
        "card = True"
      ],
      "metadata": {
        "id": "JjcuFI18ihS_"
      },
      "execution_count": null,
      "outputs": []
    },
    {
      "cell_type": "code",
      "source": [
        "if 'money' in pocket:\n",
        "  print(\"택시를 타고가라\")\n",
        "elif card:\n",
        "  print(\"택시를 타고가라\")\n",
        "else:\n",
        "  print(\"걸어가라\")"
      ],
      "metadata": {
        "colab": {
          "base_uri": "https://localhost:8080/"
        },
        "id": "8Ing4B5-il9j",
        "outputId": "7154f30b-0e83-48c6-f784-f910b52d0e1b"
      },
      "execution_count": null,
      "outputs": [
        {
          "output_type": "stream",
          "name": "stdout",
          "text": [
            "택시를 타고가라\n"
          ]
        }
      ]
    },
    {
      "cell_type": "code",
      "source": [],
      "metadata": {
        "id": "ogtD6wCTjBH7"
      },
      "execution_count": null,
      "outputs": []
    }
  ]
}